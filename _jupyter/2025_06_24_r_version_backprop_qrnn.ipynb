{
  "nbformat": 4,
  "nbformat_minor": 0,
  "metadata": {
    "colab": {
      "provenance": []
    },
    "kernelspec": {
      "name": "python3",
      "display_name": "Python 3"
    },
    "language_info": {
      "name": "python"
    }
  },
  "cells": [
    {
      "cell_type": "code",
      "source": [
        "!pip install tisthemachinelearner"
      ],
      "metadata": {
        "id": "btjJktJDbRbf"
      },
      "execution_count": null,
      "outputs": []
    },
    {
      "cell_type": "code",
      "source": [
        "%load_ext rpy2.ipython"
      ],
      "metadata": {
        "id": "PvewCcZ5bQs7"
      },
      "execution_count": 2,
      "outputs": []
    },
    {
      "cell_type": "code",
      "execution_count": null,
      "metadata": {
        "id": "fac9I3HybChp"
      },
      "outputs": [],
      "source": [
        "%%R\n",
        "\n",
        "install.packages(\"reticulate\")\n",
        "\n",
        "\n",
        "library(reticulate)\n",
        "library(MASS)\n",
        "\n",
        "\n",
        "# 2. Import Python modules (with convert = FALSE for fine control)\n",
        "sklearn_metrics <- import(\"sklearn.metrics\", convert = TRUE)\n",
        "tisthemachinelearner <- import(\"tisthemachinelearner\")"
      ]
    },
    {
      "cell_type": "code",
      "source": [
        "%%R\n",
        "\n",
        "df <- read.csv(\"https://raw.githubusercontent.com/Techtonique/datasets/refs/heads/main/tabular/regression/boston_dataset2.csv\")"
      ],
      "metadata": {
        "id": "Jpf83jaWfwyy"
      },
      "execution_count": 4,
      "outputs": []
    },
    {
      "cell_type": "code",
      "source": [
        "%%R\n",
        "\n",
        "head(df)"
      ],
      "metadata": {
        "colab": {
          "base_uri": "https://localhost:8080/"
        },
        "id": "o2FDGZDIf7KF",
        "outputId": "73d8b2f1-2693-44bb-f96f-4e5a26c2f5ad"
      },
      "execution_count": 5,
      "outputs": [
        {
          "output_type": "stream",
          "name": "stdout",
          "text": [
            "       V0 V1   V2 V3    V4    V5   V6     V7 V8  V9  V10    V11  V12 target\n",
            "1 0.00632 18 2.31  0 0.538 6.575 65.2 4.0900  1 296 15.3 396.90 4.98   24.0\n",
            "2 0.02731  0 7.07  0 0.469 6.421 78.9 4.9671  2 242 17.8 396.90 9.14   21.6\n",
            "3 0.02729  0 7.07  0 0.469 7.185 61.1 4.9671  2 242 17.8 392.83 4.03   34.7\n",
            "4 0.03237  0 2.18  0 0.458 6.998 45.8 6.0622  3 222 18.7 394.63 2.94   33.4\n",
            "5 0.06905  0 2.18  0 0.458 7.147 54.2 6.0622  3 222 18.7 396.90 5.33   36.2\n",
            "6 0.02985  0 2.18  0 0.458 6.430 58.7 6.0622  3 222 18.7 394.12 5.21   28.7\n",
            "  training_index\n",
            "1              0\n",
            "2              1\n",
            "3              0\n",
            "4              1\n",
            "5              1\n",
            "6              1\n"
          ]
        }
      ]
    },
    {
      "cell_type": "code",
      "source": [
        "%%R\n",
        "\n",
        "# 3. Prepare Boston dataset\n",
        "idx <- which(df$training_index == 1)\n",
        "X_train <- as.matrix(df[idx, seq_len(13)])\n",
        "y_train <- df$target[idx]\n",
        "X_test <- as.matrix(df[-idx, seq_len(13)])\n",
        "y_test <- df$target[-idx]\n"
      ],
      "metadata": {
        "id": "rth40VTWcvOI"
      },
      "execution_count": 6,
      "outputs": []
    },
    {
      "cell_type": "code",
      "source": [
        "%%R\n",
        "\n",
        "# 5. Build and train model\n",
        "model <- tisthemachinelearner$FiniteDiffRegressor(\n",
        "  base_model = \"GradientBoostingRegressor\",\n",
        "  lr = 0.01,\n",
        "  optimizer = \"gd\"\n",
        ")\n",
        "\n",
        "# Convert R matrices/vectors to Python numpy arrays\n",
        "X_train_py_list <- reticulate::r_to_py(X_train)\n",
        "y_train_py_list <- reticulate::r_to_py(y_train)\n",
        "X_test_py_list <- reticulate::r_to_py(X_test)\n",
        "y_test_py_list <- reticulate::r_to_py(y_test)\n",
        "\n",
        "# Pass Python numpy arrays to the Python model\n",
        "model$fit(X_train_py_list, y_train_py_list, epochs=5L, show_progress = TRUE)\n",
        "\n",
        "# 6. Predict and evaluate\n",
        "y_pred <- model$predict(X_test_py_list)\n",
        "# Ensure y_test_py (the Python object) is used, not y_test (the R vector)\n",
        "# Now we should also convert y_test to a Python numpy array for the metric calculation\n",
        "mse <- sqrt(sklearn_metrics$mean_squared_error(y_test_py_list, y_pred))\n",
        "\n",
        "# 7. Display results\n",
        "cat(\"Test MSE:\", mse, \"\\n\")"
      ],
      "metadata": {
        "colab": {
          "base_uri": "https://localhost:8080/"
        },
        "id": "y8cgBq4cdCZa",
        "outputId": "82deb97a-0542-41bd-f234-0eafbec5091e"
      },
      "execution_count": 13,
      "outputs": [
        {
          "output_type": "stream",
          "name": "stderr",
          "text": [
            " 20%|██        | 1/5 [00:00<00:00,  4.07it/s]"
          ]
        },
        {
          "output_type": "stream",
          "name": "stdout",
          "text": [
            "Epoch 1: Loss = 1.311296\n"
          ]
        },
        {
          "output_type": "stream",
          "name": "stderr",
          "text": [
            "\r 40%|████      | 2/5 [00:00<00:00,  4.26it/s]"
          ]
        },
        {
          "output_type": "stream",
          "name": "stdout",
          "text": [
            "Epoch 2: Loss = 1.311061\n"
          ]
        },
        {
          "output_type": "stream",
          "name": "stderr",
          "text": [
            "\r 60%|██████    | 3/5 [00:00<00:00,  4.18it/s]"
          ]
        },
        {
          "output_type": "stream",
          "name": "stdout",
          "text": [
            "Epoch 3: Loss = 1.313594\n"
          ]
        },
        {
          "output_type": "stream",
          "name": "stderr",
          "text": [
            "\r 80%|████████  | 4/5 [00:00<00:00,  4.28it/s]"
          ]
        },
        {
          "output_type": "stream",
          "name": "stdout",
          "text": [
            "Epoch 4: Loss = 1.315979\n"
          ]
        },
        {
          "output_type": "stream",
          "name": "stderr",
          "text": [
            "100%|██████████| 5/5 [00:01<00:00,  4.21it/s]"
          ]
        },
        {
          "output_type": "stream",
          "name": "stdout",
          "text": [
            "Epoch 5: Loss = 1.315979\n",
            "Test MSE: 2.771768 \n"
          ]
        },
        {
          "output_type": "stream",
          "name": "stderr",
          "text": [
            "\n"
          ]
        }
      ]
    },
    {
      "cell_type": "code",
      "source": [
        "%%R\n",
        "\n",
        "library(ggplot2)\n",
        "\n",
        "# Create a dataframe for plotting\n",
        "plot_data <- data.frame(Observed = y_test, Predicted = py_to_r(y_pred))\n",
        "\n",
        "# Generate the scatterplot\n",
        "ggplot(plot_data, aes(x = Observed, y = Predicted)) +\n",
        "  geom_point(alpha = 0.6) +  # Use some transparency for overlapping points\n",
        "  geom_abline(intercept = 0, slope = 1, color = \"red\", linetype = \"dashed\") + # Add y=x line\n",
        "  theme_minimal() + # Use a minimal theme\n",
        "  labs(title = \"Observed vs. Predicted Values\",\n",
        "       x = \"Observed\",\n",
        "       y = \"Predicted\")"
      ],
      "metadata": {
        "colab": {
          "base_uri": "https://localhost:8080/",
          "height": 497
        },
        "id": "6-o09uqQmobG",
        "outputId": "4525086c-0c8a-4858-b16d-a899816e3c37"
      },
      "execution_count": 15,
      "outputs": [
        {
          "output_type": "display_data",
          "data": {
            "image/png": "[encoded data removed]",
            "text/plain": [
              "<IPython.core.display.Image object>"
            ]
          },
          "metadata": {}
        }
      ]
    }
  ]
}